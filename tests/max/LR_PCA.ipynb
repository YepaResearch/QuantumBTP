{
 "cells": [
  {
   "cell_type": "code",
   "execution_count": 4,
   "id": "224010a4-5195-4ec2-899f-e73752012313",
   "metadata": {},
   "outputs": [],
   "source": [
    "import pandas as pd\n",
    "import numpy as np\n",
    "import yfinance as yf\n",
    "import pandas_ta as ta\n",
    "from sklearn.decomposition import PCA\n",
    "from sklearn.linear_model import LinearRegression"
   ]
  },
  {
   "cell_type": "code",
   "execution_count": 2,
   "id": "371b0e88-3f20-453e-ba76-2b3c5974b55f",
   "metadata": {},
   "outputs": [
    {
     "ename": "NameError",
     "evalue": "name 'yf' is not defined",
     "output_type": "error",
     "traceback": [
      "\u001b[0;31m---------------------------------------------------------------------------\u001b[0m",
      "\u001b[0;31mNameError\u001b[0m                                 Traceback (most recent call last)",
      "Cell \u001b[0;32mIn[2], line 2\u001b[0m\n\u001b[1;32m      1\u001b[0m \u001b[38;5;66;03m#Download SPY data from 2000 to 2010\u001b[39;00m\n\u001b[0;32m----> 2\u001b[0m spy \u001b[38;5;241m=\u001b[39m yf\u001b[38;5;241m.\u001b[39mdownload(\u001b[38;5;124m'\u001b[39m\u001b[38;5;124mSPY\u001b[39m\u001b[38;5;124m'\u001b[39m, start\u001b[38;5;241m=\u001b[39m\u001b[38;5;124m'\u001b[39m\u001b[38;5;124m2000-01-01\u001b[39m\u001b[38;5;124m'\u001b[39m, end\u001b[38;5;241m=\u001b[39m\u001b[38;5;124m'\u001b[39m\u001b[38;5;124m2010-01-01\u001b[39m\u001b[38;5;124m'\u001b[39m)\n\u001b[1;32m      4\u001b[0m \u001b[38;5;66;03m#Calculate RSI for periods 2 to 24\u001b[39;00m\n\u001b[1;32m      5\u001b[0m rsi_columns \u001b[38;5;241m=\u001b[39m []\n",
      "\u001b[0;31mNameError\u001b[0m: name 'yf' is not defined"
     ]
    }
   ],
   "source": [
    "#Download SPY data from 2000 to 2010\n",
    "spy = yf.download('SPY', start='2000-01-01', end='2010-01-01')\n",
    "\n",
    "#Calculate RSI for periods 2 to 24\n",
    "rsi_columns = []\n",
    "for i in range(2, 25):\n",
    "    rsi_col = f'RSI_{i}'\n",
    "    rsi_columns.append(rsi_col)\n",
    "    spy[rsi_col] = ta.rsi(spy['Close'], length=i)\n",
    "\n",
    "#Drop rows with NaN values (due to RSI calculation)\n",
    "spy.dropna(inplace=True)\n",
    "\n",
    "#Principal Component Analysis (PCA)\n",
    "pca = PCA(n_components=6)\n",
    "pca_data = pca.fit_transform(spy[rsi_columns])\n",
    "lb = 6\n",
    "#Least Squares Regression\n",
    "model = LinearRegression()\n",
    "X = pca_data[:-lb] #Exclude the last 6 rows for training\n",
    "y = spy['Close'].pct_change(lb).dropna() #6-day ahead returns, shifted to align with X\n",
    "model.fit(X, y)\n",
    "\n",
    "#Predictions\n",
    "pred = model.predict(pca_data) #Predict using all PCA data\n",
    "pred = pred[lb-1:-lb] #Adjusted to align with the dates in X and y\n",
    "\n",
    "#Align the Index for predictions with the corresponding dates in the original data\n",
    "pred_dates = spy.index[lb-1:len(spy.index) - lb] #Adjusted to align with the dates in X and y\n",
    "\n",
    "#Debugging: Check the lengths of pred_dates and pred\n",
    "print(f\"Length of pred_dates: {len(pred_dates)}\")\n",
    "print(f\"Length of pred: {len(pred)}\")\n",
    "\n",
    "#Store Predictions and signals in a DataFrame\n",
    "predictions_df = pd.DataFrame({'Date':pred_dates, 'Prediction': pred})\n",
    "\n",
    "#Thresholds\n",
    "l_thresh = np.quantile(pred, 0.90)\n",
    "s_thresh = np.quantile(pred, 0.10)\n",
    "\n",
    "predictions_df['Signal'] = 0\n",
    "predictions_df.loc[prediction_df['Prediction'] > l_thresh, 'Signal'] = 1\n",
    "predictions_df.loc[prediction_df['Prediction'] < s_thresh, 'Signal'] = -1\n",
    "\n",
    "#Aligning signals with daily returns\n",
    "aligned_signals = predictions_df.set_index('Date')['Signal'].reindex(spy.index).fillna(0).shift(1) #Shift signals\n",
    "daily_returns = spy['Close'].pct_change() #Daily returns of SPY\n",
    "investment_returns = daily_returns * aligned_signals\n",
    "\n",
    "#Fill NaN values in investment_returns with 0 \n",
    "investment_returns.fillna(0, inplace=True)\n",
    "\n",
    "#Calculate final investment value\n",
    "investment = 10000 #Initial investment \n",
    "final_investment = investment * (1 + investment_returns).cumprod().iloc[-1]\n",
    "print(f\"Final investment value: ${final_investment:.2f}\")\n",
    "\n",
    "#Calculate cumulative returns\n",
    "cumulative_returns = (1 + investment_returns).cumprod() - 1\n",
    "\n",
    "#Calculate SPY's cumulative returns for comparison \n",
    "spy_cumulative_returns = (1 + spy['Close'].pct_change()).cumprod() - 1\n",
    "\n",
    "#Plot the cumulative returns\n",
    "import matplotlib.pyplot as plt\n",
    "\n",
    "plt.figure(figsize=(12, 8))\n",
    "plt.plot(cumulative_returns, label='Strategy Returns')\n",
    "plt.plot(spy_cumulative_returns, label='SPY Returns')\n",
    "plt.legend()\n",
    "plt.title('Cumulative Returns')\n",
    "plt.xlabel('Date')\n",
    "plt.ylabel('Cumulative Return')\n",
    "plt.show()"
   ]
  },
  {
   "cell_type": "code",
   "execution_count": null,
   "id": "c8b61669-cc4b-4a96-9651-2fd7808d509b",
   "metadata": {},
   "outputs": [],
   "source": []
  }
 ],
 "metadata": {
  "kernelspec": {
   "display_name": "Python 3 (ipykernel)",
   "language": "python",
   "name": "python3"
  },
  "language_info": {
   "codemirror_mode": {
    "name": "ipython",
    "version": 3
   },
   "file_extension": ".py",
   "mimetype": "text/x-python",
   "name": "python",
   "nbconvert_exporter": "python",
   "pygments_lexer": "ipython3",
   "version": "3.11.9"
  }
 },
 "nbformat": 4,
 "nbformat_minor": 5
}
